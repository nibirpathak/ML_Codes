{
 "cells": [
  {
   "cell_type": "code",
   "execution_count": 4,
   "metadata": {},
   "outputs": [],
   "source": [
    "import csv\n",
    "import seaborn as sns\n",
    "import pandas as pd\n",
    "import matplotlib.pyplot as plt\n",
    "import numpy as np\n",
    "from numpy import mean\n",
    "from numpy import *\n",
    "import pylab"
   ]
  },
  {
   "cell_type": "code",
   "execution_count": 2,
   "metadata": {},
   "outputs": [
    {
     "data": {
      "text/html": [
       "<div>\n",
       "<style scoped>\n",
       "    .dataframe tbody tr th:only-of-type {\n",
       "        vertical-align: middle;\n",
       "    }\n",
       "\n",
       "    .dataframe tbody tr th {\n",
       "        vertical-align: top;\n",
       "    }\n",
       "\n",
       "    .dataframe thead th {\n",
       "        text-align: right;\n",
       "    }\n",
       "</style>\n",
       "<table border=\"1\" class=\"dataframe\">\n",
       "  <thead>\n",
       "    <tr style=\"text-align: right;\">\n",
       "      <th></th>\n",
       "      <th>Intensity</th>\n",
       "      <th>Voltage</th>\n",
       "      <th>Unnamed: 2</th>\n",
       "      <th>Means_raw</th>\n",
       "      <th>Potential</th>\n",
       "      <th>Means</th>\n",
       "    </tr>\n",
       "  </thead>\n",
       "  <tbody>\n",
       "    <tr>\n",
       "      <th>0</th>\n",
       "      <td>172.0031</td>\n",
       "      <td>10</td>\n",
       "      <td>1720031</td>\n",
       "      <td>2502878.944</td>\n",
       "      <td>10.0</td>\n",
       "      <td>250.287894</td>\n",
       "    </tr>\n",
       "    <tr>\n",
       "      <th>1</th>\n",
       "      <td>250.0326</td>\n",
       "      <td>10</td>\n",
       "      <td>2500326</td>\n",
       "      <td>3200791.333</td>\n",
       "      <td>12.0</td>\n",
       "      <td>320.079133</td>\n",
       "    </tr>\n",
       "    <tr>\n",
       "      <th>2</th>\n",
       "      <td>244.4319</td>\n",
       "      <td>10</td>\n",
       "      <td>2444319</td>\n",
       "      <td>3768858.000</td>\n",
       "      <td>15.0</td>\n",
       "      <td>376.885800</td>\n",
       "    </tr>\n",
       "    <tr>\n",
       "      <th>3</th>\n",
       "      <td>158.8796</td>\n",
       "      <td>10</td>\n",
       "      <td>1588796</td>\n",
       "      <td>4674938.267</td>\n",
       "      <td>18.0</td>\n",
       "      <td>467.493827</td>\n",
       "    </tr>\n",
       "    <tr>\n",
       "      <th>4</th>\n",
       "      <td>238.6170</td>\n",
       "      <td>10</td>\n",
       "      <td>2386170</td>\n",
       "      <td>7122975.200</td>\n",
       "      <td>20.0</td>\n",
       "      <td>712.297520</td>\n",
       "    </tr>\n",
       "    <tr>\n",
       "      <th>...</th>\n",
       "      <td>...</td>\n",
       "      <td>...</td>\n",
       "      <td>...</td>\n",
       "      <td>...</td>\n",
       "      <td>...</td>\n",
       "      <td>...</td>\n",
       "    </tr>\n",
       "    <tr>\n",
       "      <th>79</th>\n",
       "      <td>213.0210</td>\n",
       "      <td>20</td>\n",
       "      <td>2130210</td>\n",
       "      <td>NaN</td>\n",
       "      <td>NaN</td>\n",
       "      <td>NaN</td>\n",
       "    </tr>\n",
       "    <tr>\n",
       "      <th>80</th>\n",
       "      <td>561.1948</td>\n",
       "      <td>20</td>\n",
       "      <td>5611948</td>\n",
       "      <td>NaN</td>\n",
       "      <td>NaN</td>\n",
       "      <td>NaN</td>\n",
       "    </tr>\n",
       "    <tr>\n",
       "      <th>81</th>\n",
       "      <td>389.9031</td>\n",
       "      <td>20</td>\n",
       "      <td>3899031</td>\n",
       "      <td>NaN</td>\n",
       "      <td>NaN</td>\n",
       "      <td>NaN</td>\n",
       "    </tr>\n",
       "    <tr>\n",
       "      <th>82</th>\n",
       "      <td>428.7928</td>\n",
       "      <td>20</td>\n",
       "      <td>4287928</td>\n",
       "      <td>NaN</td>\n",
       "      <td>NaN</td>\n",
       "      <td>NaN</td>\n",
       "    </tr>\n",
       "    <tr>\n",
       "      <th>83</th>\n",
       "      <td>410.4552</td>\n",
       "      <td>20</td>\n",
       "      <td>4104552</td>\n",
       "      <td>NaN</td>\n",
       "      <td>NaN</td>\n",
       "      <td>NaN</td>\n",
       "    </tr>\n",
       "  </tbody>\n",
       "</table>\n",
       "<p>84 rows × 6 columns</p>\n",
       "</div>"
      ],
      "text/plain": [
       "    Intensity  Voltage  Unnamed: 2    Means_raw  Potential       Means\n",
       "0    172.0031       10     1720031  2502878.944       10.0  250.287894\n",
       "1    250.0326       10     2500326  3200791.333       12.0  320.079133\n",
       "2    244.4319       10     2444319  3768858.000       15.0  376.885800\n",
       "3    158.8796       10     1588796  4674938.267       18.0  467.493827\n",
       "4    238.6170       10     2386170  7122975.200       20.0  712.297520\n",
       "..        ...      ...         ...          ...        ...         ...\n",
       "79   213.0210       20     2130210          NaN        NaN         NaN\n",
       "80   561.1948       20     5611948          NaN        NaN         NaN\n",
       "81   389.9031       20     3899031          NaN        NaN         NaN\n",
       "82   428.7928       20     4287928          NaN        NaN         NaN\n",
       "83   410.4552       20     4104552          NaN        NaN         NaN\n",
       "\n",
       "[84 rows x 6 columns]"
      ]
     },
     "execution_count": 2,
     "metadata": {},
     "output_type": "execute_result"
    }
   ],
   "source": [
    "df = pd.read_csv(\"Z:/Papers/NFP-E Delivery and  Sampling/ACS Nano/Figures/Figure 2-BSA delivery in immortalized cells/Figure 2d-Voltage Variation/Intensity_all.csv\")\n",
    "df1 = pd.read_csv(\"Z:/Papers/NFP-E Delivery and  Sampling/ACS Nano/Figures/Figure 2-BSA delivery in immortalized cells/Figure 2d-Voltage Variation/Avg_BSA_Hela.csv\")\n",
    "df0 = pd.read_csv(\"Z:/Papers/NFP-E Delivery and  Sampling/ACS Nano/Figures/Figure 2-BSA delivery in immortalized cells/Figure 2d-Voltage Variation/Intensity_Voltage_BSA_Hela.csv\")\n",
    "colors1 = sns.cubehelix_palette(8, start=.5, rot=-.75)\n",
    "color1 = sns.set_palette(sns.color_palette(colors1))\n",
    "df\n",
    "#Intensity_Voltage_BSA_Hela\n"
   ]
  },
  {
   "cell_type": "code",
   "execution_count": 12,
   "metadata": {},
   "outputs": [
    {
     "data": {
      "image/png": "[encoded data removed]",
      "text/plain": [
       "<Figure size 180x187.2 with 1 Axes>"
      ]
     },
     "metadata": {
      "needs_background": "light"
     },
     "output_type": "display_data"
    }
   ],
   "source": [
    "fig, ax = plt.subplots(figsize=(2.5, 2.6))\n",
    "\n",
    "bar = sns.barplot(y='Intensity', x='Voltage', data=df, estimator=mean, palette=color1, linewidth=1.5, ci=68, ax=ax, capsize=0.1)\n",
    "for c in bar.patches:\n",
    "    c.set_zorder(0)\n",
    "\n",
    "sns.regplot(x=np.arange(0, len(df)), y='Means', data=df, order=2,  line_kws={'linestyle':'--','linewidth': 1, 'color': 'black'}, ci=None, truncate=True, ax=ax)\n",
    "\n",
    "'''\n",
    "y1=df.Means\n",
    "x1=df.Potential\n",
    "z = np.polyfit(x1[0:4], y1[0:4], 2)\n",
    "xp = np.linspace(10, 20, 100)\n",
    "p = np.poly1d(z)\n",
    "plt.plot(xp, p(xp),'-')\n",
    "'''\n",
    "ax.set_xlabel('Voltage (V)', fontsize=16, fontname='Arial')\n",
    "ax.set_ylabel('I (a.u.)', fontsize=16, fontname='Arial')\n",
    "#ax.set_xlabel('Voltage(V)',fontsize=14,fontname='Arial')\n",
    "#ax.set_ylabel('Fluorescence Intensity(a.u.)',fontsize=14,fontname='Arial')\n",
    "plt.yticks(fontsize = 16)\n",
    "plt.xticks(fontsize = 16)\n",
    "\n",
    "fig1=plt.gcf()\n",
    "fig1.savefig('Q:/Small_response/Voltage_var.svg', format='svg')"
   ]
  },
  {
   "cell_type": "code",
   "execution_count": 23,
   "metadata": {},
   "outputs": [],
   "source": [
    "V=np.array([0, 10, 12, 15 ,18 ,20])\n",
    "I=np.array([0, 250.28, 320.07, 376.88, 467.49, 712.29])\n",
    "yerr=np.array([0, 19.37, 29.50, 38.03, 42.59, 69.80])"
   ]
  },
  {
   "cell_type": "code",
   "execution_count": 24,
   "metadata": {},
   "outputs": [],
   "source": [
    "q = 2\n",
    "zq = polyfit(V,I,q) \n",
    "pq = poly1d(zq)"
   ]
  },
  {
   "cell_type": "code",
   "execution_count": 25,
   "metadata": {},
   "outputs": [
    {
     "data": {
      "text/plain": [
       "(array([-10.,   0.,  10.,  20.,  30.]), <a list of 5 Text xticklabel objects>)"
      ]
     },
     "execution_count": 25,
     "metadata": {},
     "output_type": "execute_result"
    },
    {
     "data": {
      "image/png": "[encoded data removed]",
      "text/plain": [
       "<Figure size 180x187.2 with 1 Axes>"
      ]
     },
     "metadata": {
      "needs_background": "light"
     },
     "output_type": "display_data"
    }
   ],
   "source": [
    "xx = linspace(0, max(V), 500)\n",
    "fig, ax = plt.subplots(figsize=(2.5, 2.6))\n",
    "pylab.plot(xx, pq(xx),'-g')\n",
    "pylab.errorbar(V, I,yerr=yerr, fmt='r.')\n",
    "ax.set_xlabel('Voltage (V)', fontsize=16, fontname='Arial')\n",
    "ax.set_ylabel('I (a.u.)', fontsize=16, fontname='Arial')\n",
    "plt.yticks(fontsize = 15)\n",
    "plt.xticks(fontsize = 15)\n",
    "\n",
    "#plt.savefig('Z:/Papers/NFP-E Delivery and  Sampling/ACS Nano/Figures/Figure 2-BSA delivery in immortalized cells/Figure 2d-Voltage Variation/Fig2g.svg') "
   ]
  },
  {
   "cell_type": "code",
   "execution_count": 27,
   "metadata": {},
   "outputs": [
    {
     "name": "stdout",
     "output_type": "stream",
     "text": [
      "[  4.56681856 -96.52940959 783.70023665]\n",
      "[  4.56681856  -5.19303849 275.08799623]\n"
     ]
    },
    {
     "data": {
      "image/png": "[encoded data removed]",
      "text/plain": [
       "<Figure size 432x288 with 1 Axes>"
      ]
     },
     "metadata": {
      "needs_background": "light"
     },
     "output_type": "display_data"
    }
   ],
   "source": [
    "import numpy as np\n",
    "import matplotlib.pyplot as plt\n",
    "from scipy.optimize import curve_fit\n",
    "\n",
    "def func(x, a, b, c):\n",
    "    return a * (x-10) ** 2 + b*(x-10)+c\n",
    "\n",
    "V=np.array([10, 12, 15 ,18 ,20])\n",
    "I=np.array([250.28, 320.07, 376.88, 467.49, 712.29])\n",
    "\n",
    "print(np.polyfit(V, I, 2))\n",
    "\n",
    "popt, _ = curve_fit(func, V, I)\n",
    "print(popt)\n",
    "\n",
    "\n",
    "xx = linspace(10, max(V), 500)\n",
    "\n",
    "plt.plot(V, I, 'bo')\n",
    "plt.plot(xx, func(xx, *popt), 'k-')\n",
    "\n",
    "plt.show()"
   ]
  },
  {
   "cell_type": "code",
   "execution_count": null,
   "metadata": {},
   "outputs": [],
   "source": []
  }
 ],
 "metadata": {
  "kernelspec": {
   "display_name": "Python 3",
   "language": "python",
   "name": "python3"
  },
  "language_info": {
   "codemirror_mode": {
    "name": "ipython",
    "version": 3
   },
   "file_extension": ".py",
   "mimetype": "text/x-python",
   "name": "python",
   "nbconvert_exporter": "python",
   "pygments_lexer": "ipython3",
   "version": "3.7.6"
  }
 },
 "nbformat": 4,
 "nbformat_minor": 4
}
